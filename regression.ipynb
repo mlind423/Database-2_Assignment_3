{
 "cells": [
  {
   "cell_type": "code",
   "execution_count": null,
   "metadata": {},
   "outputs": [],
   "source": [
    "import sqlite3\n",
    "import pandas as pd\n",
    "import matplotlib.pyplot as plt\n",
    "from sklearn.linear_model import LinearRegression\n",
    "\n",
    "def train_predict_student_score(student_id, effort_hours):\n",
    "    conn = sqlite3.connect(\"database.db\")\n",
    "    performance_data = pd.read_sql_query(\"SELECT * FROM Performance\", conn)\n",
    "    student_performance_data = performance_data[performance_data[\"StudentID\"] == student_id]\n",
    "    x_data = student_performance_data[[\"effort_hours\"]]\n",
    "    y_data = student_performance_data[[\"marks\"]]\n",
    "\n",
    "    model = LinearRegression()\n",
    "    model.fit(x_data, y_data)\n",
    "\n",
    "    x_test = pd.DataFrame({\"effort hours\": [effort_hours]})\n",
    "    prediction = model.predict(x_test)\n",
    "\n",
    "    plt.scatter(x_data, y_data, color=\"blue\", label=\"Performance Data\")\n",
    "    plt.plot(x_data, model.predict(x_data), color=\"red\", label=\"Regression Line\")\n",
    "    plt.xlabel(\"Effort Hours\")\n",
    "    plt.ylabel(\"Marks\")\n",
    "    plt.title(f\"Linear Regression for Student  {student_id}\")\n",
    "    plt.legend()\n",
    "    plt.show()\n",
    "\n",
    "    return prediction[0]\n",
    "\n",
    "students = [\"SID20131151\", \"SID20149500\", \"SID20182516\"]\n",
    "for student_id in students:\n",
    "    predicted_score =  train_predict_student_score(student_id, effort_hours=10)\n",
    "    print(f\"Predicted score for student {student_id} with 10 hours of effort: {predicted_score}\")"
   ]
  }
 ],
 "metadata": {
  "language_info": {
   "name": "python"
  }
 },
 "nbformat": 4,
 "nbformat_minor": 2
}
